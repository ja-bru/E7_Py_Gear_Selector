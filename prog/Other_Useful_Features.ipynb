{
 "cells": [
  {
   "cell_type": "code",
   "execution_count": null,
   "metadata": {},
   "outputs": [],
   "source": [
    "from datetime import datetime\n",
    "import pandas as pd\n",
    "pd.set_option('display.max_rows', 100)\n",
    "pd.set_option('display.max_columns', 40)\n",
    "import numpy as np\n",
    "import itertools\n",
    "import pickle\n",
    "import json\n",
    "import yaml\n",
    "import setup as st\n",
    "import fx_lib as fx\n",
    "with open(r'../inp/character_inputs.yaml') as file:\n",
    "    target_stats = yaml.load(file, Loader=yaml.FullLoader)\n",
    "with open('../inp/master_data.json') as json_file:\n",
    "    data = json.load(json_file)"
   ]
  },
  {
   "cell_type": "code",
   "execution_count": null,
   "metadata": {},
   "outputs": [],
   "source": [
    "df_items = pd.read_pickle('../outp/equip_potential.pkl')\n",
    "df_equipped = df_items[~(df_items.hero == '')].copy()\n",
    "df_hero_stats, char = fx.hero_json_to_df(df_equipped.hero.unique(), data)\n",
    "df_hero_stats['hero'] = df_hero_stats['Name']\n",
    "for j in range(0,6):\n",
    "    temp_df = df_hero_stats.merge(df_equipped[['hero','id']][df_equipped.Type == j], \\\n",
    "                        how = 'left', on = 'hero' )\n",
    "    df_hero_stats[str(j)] = temp_df['id']"
   ]
  },
  {
   "cell_type": "markdown",
   "metadata": {},
   "source": [
    "#### Look at equipment for a specific hero"
   ]
  },
  {
   "cell_type": "code",
   "execution_count": null,
   "metadata": {
    "scrolled": true
   },
   "outputs": [],
   "source": [
    "df_equipped[df_equipped.hero=='Angelic Montmorancy']\n",
    "# df_equipped[(df_equipped.hero.isin(['Faithless Lidica','Dizzy','Kayron','Tenebria']))]"
   ]
  },
  {
   "cell_type": "markdown",
   "metadata": {},
   "source": [
    "#### Display and Sort Heroes by Stats"
   ]
  },
  {
   "cell_type": "code",
   "execution_count": null,
   "metadata": {},
   "outputs": [],
   "source": [
    "st.GEAR_ENHANCE = 0  ## set to 0 for current stats.  \n",
    "                     ##Setting to 15 would show hero stats if all gear is enhanced to 15 by increasing the min stat only\n",
    "    \n",
    "current_gear = df_hero_stats.apply(lambda row: fx.get_set_bonus(row, df_equipped), axis=1)\n",
    "current_gear[['0','1','2','3','4','5']] = current_gear[['0','1','2','3','4','5']].fillna('z')\n",
    "current_gear['Gear'] = str(\"['\") + current_gear['0'] + str(\"','\")+current_gear['1'] + str(\"','\")+ \\\n",
    "            current_gear['2']+str(\"','\")+ current_gear['3'] + str(\"','\")+current_gear['4'] + \\\n",
    "            str(\"','\")+current_gear['5'] + str(\"']\")\n",
    "current_gear = current_gear[current_gear.Complete == 1].copy().fillna(0).reset_index()\n",
    "ee_df = pd.DataFrame(columns= ['Name','BonusStats','Atk','AtkP','HP','HPP','Def','DefP','Spd','CChance','CDmg','Eff','Res'])\n",
    "ee_df['Name'] = current_gear['Name']\n",
    "ee_df['BonusStats'] = current_gear['BonusStats']\n",
    "ee_df = ee_df.fillna(0)\n",
    "for index, row in ee_df.iterrows():\n",
    "    char=row[\"Name\"]\n",
    "    for stat in np.unique(fx.gear_rating_lookup.stat_in.values):\n",
    "        try: \n",
    "            val = row[\"BonusStats\"][stat]\n",
    "            ee_df.loc[index,stat] = val\n",
    "        except: next\n",
    "hero_inp_cols = ['Name','Level','Element','Role','Atk','HP','Speed','Def','Crit Rate','Crit Dmg','Effectiveness','Eff Resist','SC','EE']\n",
    "hero_base_cols = ['Name','Lvl']\n",
    "df = fx.get_combo_stats(current_gear[hero_base_cols].copy(), current_gear[hero_inp_cols], \n",
    "                        fx.mainst_sum(current_gear, df_equipped), \n",
    "                        fx.subst_sum(current_gear, df_equipped), \n",
    "                        fx.set_sum(current_gear), \n",
    "                        ee_df, 'all', target_stats['General'])"
   ]
  },
  {
   "cell_type": "code",
   "execution_count": null,
   "metadata": {},
   "outputs": [],
   "source": [
    "df.sort_values(by = ['EHP'], ascending = False)"
   ]
  },
  {
   "cell_type": "markdown",
   "metadata": {},
   "source": [
    "#### See Heroes with partially equipped gear"
   ]
  },
  {
   "cell_type": "code",
   "execution_count": null,
   "metadata": {},
   "outputs": [],
   "source": [
    "for j in range(0,6):\n",
    "    temp_df = df_hero_stats.merge(df_equipped[['hero','id']][df_equipped.Type == j], \\\n",
    "                        how = 'left', on = 'hero' )\n",
    "    df_hero_stats[str(j)] = temp_df['id']"
   ]
  },
  {
   "cell_type": "code",
   "execution_count": null,
   "metadata": {
    "scrolled": true
   },
   "outputs": [],
   "source": [
    "partial_equip = df_equipped.groupby('hero').count().reset_index()\n",
    "partial_equip[(partial_equip.id != 6)][['hero','id']]"
   ]
  },
  {
   "cell_type": "markdown",
   "metadata": {},
   "source": [
    "#### Examine/Sort Gear"
   ]
  },
  {
   "cell_type": "code",
   "execution_count": null,
   "metadata": {},
   "outputs": [],
   "source": [
    "df_items[\n",
    "    (df_items.enhance < 15)  &  (df_items.level == 85) & \\\n",
    "    (df_items.set.isin(['Lifesteal'])) & (df_items.slot == 'Boots') ] \\\n",
    "    .sort_values(by = ['maxp'], ascending = False)"
   ]
  },
  {
   "cell_type": "markdown",
   "metadata": {},
   "source": [
    "#### A method for finding lower rank gear items & removing them from json"
   ]
  },
  {
   "cell_type": "markdown",
   "metadata": {},
   "source": [
    "Setting parameters or cutoffs for gear"
   ]
  },
  {
   "cell_type": "code",
   "execution_count": null,
   "metadata": {},
   "outputs": [],
   "source": [
    "x1 = 60\n",
    "x2 = 80\n",
    "x3 = 10\n",
    "x4 = df_items['current_eff'].quantile(q=0.3)"
   ]
  },
  {
   "cell_type": "code",
   "execution_count": null,
   "metadata": {},
   "outputs": [],
   "source": [
    "low_items = df_items[(df_items.efficiency <= x1) & (df_items.max_eff <= x2) & \\\n",
    "                     (df_items.SPD <= x3) & (df_items.current_eff <= x4) & (df_items.SPD <= 8)].copy()"
   ]
  },
  {
   "cell_type": "code",
   "execution_count": null,
   "metadata": {},
   "outputs": [],
   "source": [
    "print(\"number of items\" , len(df_items))\n",
    "print(\"number of unequipped items\" , len(df_items[df_items.hero=='']))\n",
    "print(\"number of items to delete\" , len(low_items))\n",
    "print(\"number of unequipped items to delete\" , len(low_items[low_items.hero=='']))"
   ]
  },
  {
   "cell_type": "code",
   "execution_count": null,
   "metadata": {},
   "outputs": [],
   "source": [
    "# view items\n",
    "low_items"
   ]
  },
  {
   "cell_type": "code",
   "execution_count": null,
   "metadata": {},
   "outputs": [],
   "source": [
    "#export/upload csv\n",
    "low_items[low_items.hero==''][['id','efficiency','max_eff','set','slot','level','enhance']].to_csv('../outp/remove_list.csv')\n",
    "remove = pd.read_csv('../outp/remove_list.csv')"
   ]
  },
  {
   "cell_type": "markdown",
   "metadata": {},
   "source": [
    "##### deletes the gear from the json items and overwrites the upd_items.json (the same output from hero_optimizer)"
   ]
  },
  {
   "cell_type": "code",
   "execution_count": null,
   "metadata": {},
   "outputs": [],
   "source": [
    "check1 = len(remove.id.values)\n",
    "check2 = df_items[df_items.id.isin(remove.id.values)]['id'].count()"
   ]
  },
  {
   "cell_type": "code",
   "execution_count": null,
   "metadata": {},
   "outputs": [],
   "source": [
    "if check1 == check2:\n",
    "    print('pass', check1, check2)\n",
    "    df_items = df_items.sort_values(by = ['hero','Type','efficiency','enhance'])\n",
    "    export1 = df_items[~df_items.id.isin(remove.id.values)][['efficiency','hero','enhance','slot','level','set','rarity','mainStat','subStat1','subStat2','subStat3','subStat4','id','p_id','locked']].copy()\n",
    "    export2 = export1.to_dict('records')\n",
    "    with open('../outp/upd_items.json', 'w') as fp: json.dump(export2, fp)"
   ]
  },
  {
   "cell_type": "code",
   "execution_count": null,
   "metadata": {},
   "outputs": [],
   "source": [
    "print( sc.df_items['id'].count() , export1['id'].count(), check1 )"
   ]
  }
 ],
 "metadata": {
  "kernelspec": {
   "display_name": "Python 3",
   "language": "python",
   "name": "python3"
  },
  "language_info": {
   "codemirror_mode": {
    "name": "ipython",
    "version": 3
   },
   "file_extension": ".py",
   "mimetype": "text/x-python",
   "name": "python",
   "nbconvert_exporter": "python",
   "pygments_lexer": "ipython3",
   "version": "3.8.5"
  }
 },
 "nbformat": 4,
 "nbformat_minor": 2
}
