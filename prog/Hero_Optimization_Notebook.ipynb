{
 "cells": [
  {
   "cell_type": "markdown",
   "metadata": {},
   "source": [
    "## Gear Optimization Notebook for Epic Seven\n",
    "#### E7_Py_Gear_Selector by ja-bru"
   ]
  },
  {
   "cell_type": "markdown",
   "metadata": {},
   "source": [
    "##### Initialize Notebook Settings"
   ]
  },
  {
   "cell_type": "code",
   "execution_count": null,
   "metadata": {},
   "outputs": [],
   "source": [
    "%run item_potential.py"
   ]
  },
  {
   "cell_type": "code",
   "execution_count": null,
   "metadata": {},
   "outputs": [],
   "source": [
    "## Uncomment the line below & run this cell to update hero database when new characters are released\n",
    "# %run api_get.py"
   ]
  },
  {
   "cell_type": "code",
   "execution_count": null,
   "metadata": {},
   "outputs": [],
   "source": [
    "from datetime import datetime\n",
    "import pandas as pd\n",
    "pd.set_option('display.max_rows', 100)\n",
    "pd.set_option('display.max_columns', 40)\n",
    "import numpy as np\n",
    "import itertools\n",
    "import pickle\n",
    "import json\n",
    "import yaml\n",
    "from ipywidgets import widgets, VBox, HBox\n",
    "from IPython.display import display\n",
    "\n",
    "import setup as st\n",
    "import fx_lib as fx\n",
    "with open(r'../inp/character_inputs.yaml') as file:\n",
    "    target_stats = yaml.load(file, Loader=yaml.FullLoader)\n",
    "with open('../inp/master_data.json') as json_file:\n",
    "    data = json.load(json_file)\n",
    "import customer_ui_fx as ui"
   ]
  },
  {
   "cell_type": "code",
   "execution_count": null,
   "metadata": {},
   "outputs": [],
   "source": [
    "df_items = pd.read_pickle('../outp/equip_potential.pkl')\n",
    "df_items['reco'] = ''\n",
    "df_items['start_loc'] = df_items['hero']"
   ]
  },
  {
   "cell_type": "markdown",
   "metadata": {},
   "source": [
    "## Section 1:  Notebook set up\n",
    "Description of Settings:"
   ]
  },
  {
   "cell_type": "markdown",
   "metadata": {},
   "source": [
    "| Syntax | Description |\n",
    "| :----------- | :----------- |\n",
    "| <b>Manual_Selection:</b> |  Primarily used for run in terminal, if Selection = 1, the user is prompted with a refined gear list to choose from for each hero | \n",
    "| <b>Gear_Limit:</b> |  To improve run time, the top 'n' gears for EACH slot is used in optimization | \n",
    "| <b>Auto_Adj_Gear_Limit:</b> |  Adjusts the number of gear pieces selected based on combinations to optimize run time vs available selections |\n",
    "| <b>Use_Broken_Sets:</b> |  Only complete sets are used in gear optimization {default: 0} |\n",
    "| <b>No_Equipped_Gear:</b> |  Set to 1 {default}: does not use any equipped gear.  To include gear equipped on other heroes set to 0. |\n",
    "| <b>Keep_Current_Gear:</b> |  Keeps any currently equipped gear on the hero |\n",
    "| <b>Gear_Enhance:</b> |  Enhance gear to minimum level for stat selection/optimization |\n",
    "| <b>Flat_Sub:</b> |  Weight flat stat values in substats {range 0.0-1.0, default:0.8} |\n",
    "| <b>Flat_Main:</b> |  Weight value attributed to {Necklace, Ring, Boots} with flat main stats {range 0.0-1.0, default:0.5} |\n",
    "| <b>Min_Hero_Lvl:</b> |  Default Hero level of either 50 or 60 for stat calculation when the hero is not included in input file |"
   ]
  },
  {
   "cell_type": "markdown",
   "metadata": {},
   "source": [
    "##### You can edit these settings before you get started by uncommenting them and changing the value, then running the cell"
   ]
  },
  {
   "cell_type": "code",
   "execution_count": null,
   "metadata": {},
   "outputs": [],
   "source": [
    "st.GEAR_LIMIT = 15\n",
    "st.NO_EQUIPPED_GEAR = 1\n",
    "st.IGNORE_FLAT_MAIN_STATS = 1\n",
    "# st.MIN_LEVEL = 50\n",
    "# st.GEAR_ENHANCE = 12\n",
    "# st.FLAT_SUB = 0.8\n",
    "# st.FLAT_MAIN = 0.5"
   ]
  },
  {
   "cell_type": "code",
   "execution_count": null,
   "metadata": {},
   "outputs": [],
   "source": [
    "fx.verify_setup()"
   ]
  },
  {
   "cell_type": "code",
   "execution_count": null,
   "metadata": {},
   "outputs": [],
   "source": [
    "## Here are the latest settings from character_inputs.yaml:\n",
    "hero_order = fx.startup_msg1(target_stats)\n",
    "j=0"
   ]
  },
  {
   "cell_type": "markdown",
   "metadata": {},
   "source": [
    "If you want to adjust the heroes above, uncomment the below cell and manually update heroes for optimization and locked gear"
   ]
  },
  {
   "cell_type": "code",
   "execution_count": null,
   "metadata": {},
   "outputs": [],
   "source": [
    "# hero_order = ['Faithless Lidica','Dizzy','Falconer Kluri','Cermia']\n",
    "lock_gear = []"
   ]
  },
  {
   "cell_type": "code",
   "execution_count": null,
   "metadata": {},
   "outputs": [],
   "source": [
    "df_hero, char_list = fx.hero_json_to_df(hero_order, data)\n",
    "df_items = fx.startup_msg2(df_items, lock_gear)"
   ]
  },
  {
   "cell_type": "markdown",
   "metadata": {},
   "source": [
    "## Section 2:  Hero specific settings\n",
    "### SELECT HERO\n",
    "The following section can be looped through for one hero at a time.  You can select the hero and customize some settings to deliver optimal gear selection.  Once recommended gear has been assigned to the hero, that gear will become locked and previously equipped gear will be released.  Data is saved at the end of each hero optimization and can be recovered in case of error when doing multiple heroes at once."
   ]
  },
  {
   "cell_type": "markdown",
   "metadata": {},
   "source": [
    "To recover data, uncomment and run the cell below:"
   ]
  },
  {
   "cell_type": "code",
   "execution_count": null,
   "metadata": {},
   "outputs": [],
   "source": [
    "# df_items = pd.read_pickle('../outp/upd_items.pkl')"
   ]
  },
  {
   "cell_type": "markdown",
   "metadata": {},
   "source": [
    "Specify the hero and review settings"
   ]
  },
  {
   "cell_type": "code",
   "execution_count": null,
   "metadata": {},
   "outputs": [],
   "source": [
    "char, hero_target = fx.start_hero(hero_order[j], target_stats)\n",
    "w0,s4,s2,w1,w2,w3,w4,ms0,r0 = ui.run_widgets(hero_target, char_list, [st.GEAR_ENHANCE,st.GEAR_LIMIT,st.KEEP_CURR_GEAR,st.IGNORE_FLAT_MAIN_STATS], char)"
   ]
  },
  {
   "cell_type": "markdown",
   "metadata": {},
   "source": [
    "Optional settings to change:"
   ]
  },
  {
   "cell_type": "code",
   "execution_count": null,
   "metadata": {},
   "outputs": [],
   "source": [
    "VBox([w1,w4,w2])"
   ]
  },
  {
   "cell_type": "markdown",
   "metadata": {},
   "source": [
    "Save if settings were changed:"
   ]
  },
  {
   "cell_type": "code",
   "execution_count": null,
   "metadata": {},
   "outputs": [],
   "source": [
    "char, hero_target = fx.start_hero(w1.value, target_stats)\n",
    "st.GEAR_ENHANCE = w2.value\n",
    "st.KEEP_CURR_GEAR = 1 if w4.value == True else 0"
   ]
  },
  {
   "cell_type": "markdown",
   "metadata": {},
   "source": [
    "Select weighting of hero stats"
   ]
  },
  {
   "cell_type": "code",
   "execution_count": null,
   "metadata": {},
   "outputs": [],
   "source": [
    "if w4.value: print(\"Hero current has gear equipped: \", df_items[df_items.hero == char].set.unique(), \"and you've selected keep existing gear\")\n",
    "VBox([HBox([VBox([widgets.Label(\"Stat Weights\"),w0]), VBox([widgets.Label(\"4 Piece Sets\"),s4]), VBox([widgets.Label(\"2 Piece Sets\"),s2])]),\n",
    "    HBox([VBox([widgets.Label(\"Necklace Main Stat\"),ms0[0]]), VBox([widgets.Label(\"Ring Main Stat\"),ms0[1]]), VBox([widgets.Label(\"Boot Main Stat\"),ms0[2]]), VBox([widgets.Label(\"Rank Order Gear by:\"), r0])]) ])"
   ]
  },
  {
   "cell_type": "code",
   "execution_count": null,
   "metadata": {},
   "outputs": [],
   "source": [
    "hero_target = ui.update_settings(hero_target, w0, s4, s2, ms0)"
   ]
  },
  {
   "cell_type": "markdown",
   "metadata": {},
   "source": [
    "## Section 3:  Run Gear Combinations"
   ]
  },
  {
   "cell_type": "code",
   "execution_count": null,
   "metadata": {},
   "outputs": [],
   "source": [
    "gear_comb_dict = fx.set_combo(fx.equip_optimizer_input(df_items, char, hero_target, hero_target['Main_Stats'], r0.value), fx.l4, fx.l2)  ## Output gear_comb_dict[ [set_nm] , [type] , [ID] ]\n",
    "sc_output = fx.set_combination_iterate(gear_comb_dict, fx.set_4[fx.set_4.Set_Nm.isin(hero_target['include_sets'])].Set_Nm.values , fx.set_2[fx.set_2.Set_Nm.isin(hero_target['include_sets'])].Set_Nm.values, hero_target['Force_4Set'])"
   ]
  },
  {
   "cell_type": "markdown",
   "metadata": {},
   "source": [
    "Calculates the stats for each combination of gear\n",
    "The gear initially equipped on this hero is also pulled in for comparison.  Some of the hero's gear may have already been assigned to another hero during this optimization and cannot be selected for the desired output."
   ]
  },
  {
   "cell_type": "code",
   "execution_count": null,
   "metadata": {},
   "outputs": [],
   "source": [
    "sc_df, hero_with_gear = fx.final_gear_combos(sc_output, char)"
   ]
  },
  {
   "cell_type": "code",
   "execution_count": null,
   "metadata": {},
   "outputs": [],
   "source": [
    "odf = fx.get_combo_stats(sc_df, df_hero, fx.mainst_sum(sc_df, df_items), fx.subst_sum(sc_df, df_items), \\\n",
    "                        fx.set_sum(sc_df), fx.bonus_eqp_sum(df_hero[df_hero.Name == char]), char, hero_target)\n",
    "idx_reco, choice_df = fx.run_stat_reco(odf, hero_with_gear, hero_target)"
   ]
  },
  {
   "cell_type": "code",
   "execution_count": null,
   "metadata": {},
   "outputs": [],
   "source": [
    "idx_text = 'Enter the index value for the gear combination with the hero stats you would like to apply:'\n",
    "idx = widgets.BoundedIntText(value=idx_reco, min=0, max=len(odf)-2, description=\"Index:\", disabled=False)\n",
    "uniqueSets = (odf['Set_1'].dropna().append(odf['Set_2'].dropna()).append(odf['Set_3'].dropna())).unique()\n",
    "s1,s2,w3 = ui.run_stat_selector(uniqueSets)\n",
    "box1 = VBox(s1)\n",
    "box2 = VBox(s2)\n",
    "box3 = VBox([widgets.Label(\"Choose the stat/column to sort by:\"), w3] )"
   ]
  },
  {
   "cell_type": "markdown",
   "metadata": {},
   "source": [
    "## Section 4:  Choose Gear\n",
    "### REVIEW GEAR OPTIONS"
   ]
  },
  {
   "cell_type": "markdown",
   "metadata": {},
   "source": [
    "This table will display some of the top options based on the hero settings:"
   ]
  },
  {
   "cell_type": "code",
   "execution_count": null,
   "metadata": {
    "scrolled": true
   },
   "outputs": [],
   "source": [
    "choice_df[['Complete','Set_1','Set_2','Set_3','WW','ATK','HP','DEF','SPD','CRIT','CDMG','EFF','RES','Dmg_Rating','EHP']]"
   ]
  },
  {
   "cell_type": "markdown",
   "metadata": {},
   "source": [
    "You can also interact with the stats to display the top options:"
   ]
  },
  {
   "cell_type": "code",
   "execution_count": null,
   "metadata": {},
   "outputs": [],
   "source": [
    "HBox([box1,box2,box3])"
   ]
  },
  {
   "cell_type": "code",
   "execution_count": null,
   "metadata": {},
   "outputs": [],
   "source": [
    "print_df = ui.print_gear_options(odf,s1,s2,w3)\n",
    "print_df"
   ]
  },
  {
   "cell_type": "markdown",
   "metadata": {},
   "source": [
    "#### SELECT FINAL GEAR SET"
   ]
  },
  {
   "cell_type": "code",
   "execution_count": null,
   "metadata": {},
   "outputs": [],
   "source": [
    "print(idx_text)\n",
    "print(\"Value 0 to\",len(odf)-2)\n",
    "display(idx)"
   ]
  },
  {
   "cell_type": "code",
   "execution_count": null,
   "metadata": {},
   "outputs": [],
   "source": [
    "print(\"Confirming index number:\",idx.value)"
   ]
  },
  {
   "cell_type": "markdown",
   "metadata": {},
   "source": [
    "##### Save the results for this hero:"
   ]
  },
  {
   "cell_type": "code",
   "execution_count": null,
   "metadata": {},
   "outputs": [],
   "source": [
    "df_items = ui.save_hero(df_items, odf.loc[idx.value], char)\n",
    "j+=1\n",
    "ui.save_final_data(df_items)\n",
    "print(\"Step 4/4 Complete:  Gear chosen and saved\")"
   ]
  },
  {
   "cell_type": "markdown",
   "metadata": {},
   "source": [
    "#### You can now go back to Section 2 and start on the next hero, or finish here.  Data has been saved in both .csv and .json files.  You can also look at the following data table to see your changes"
   ]
  },
  {
   "cell_type": "code",
   "execution_count": null,
   "metadata": {},
   "outputs": [],
   "source": [
    "delta= np.unique(df_items[~(df_items.hero == df_items.start_loc)].hero.values)\n",
    "delta = delta[delta!='']\n",
    "cols = ['hero','start_loc','reco','slot','set','level','rarity','enhance','mainStat','subStat1','subStat2','subStat3','subStat4','efficiency','max_eff','id','Type']\n",
    "df_items[cols][df_items.hero.isin(delta)|df_items.start_loc.isin(delta)].sort_values(by=['hero','Type'], ascending=[False, True])"
   ]
  },
  {
   "cell_type": "markdown",
   "metadata": {},
   "source": [
    "## End of optimization notebook"
   ]
  }
 ],
 "metadata": {
  "kernelspec": {
   "display_name": "Python 3",
   "language": "python",
   "name": "python3"
  },
  "language_info": {
   "codemirror_mode": {
    "name": "ipython",
    "version": 3
   },
   "file_extension": ".py",
   "mimetype": "text/x-python",
   "name": "python",
   "nbconvert_exporter": "python",
   "pygments_lexer": "ipython3",
   "version": "3.8.5"
  }
 },
 "nbformat": 4,
 "nbformat_minor": 4
}
