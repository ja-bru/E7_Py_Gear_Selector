{
 "cells": [
  {
   "cell_type": "markdown",
   "metadata": {},
   "source": [
    "## Gear Optimization Notebook for Epic Seven\n",
    "#### xx"
   ]
  },
  {
   "cell_type": "markdown",
   "metadata": {},
   "source": [
    "##### Initialize Notebook Settings"
   ]
  },
  {
   "cell_type": "code",
   "execution_count": null,
   "metadata": {},
   "outputs": [],
   "source": [
    "import setup as st\n",
    "import fx_lib as fx\n",
    "from datetime import datetime\n",
    "import pandas as pd\n",
    "pd.set_option('display.max_rows', 100)\n",
    "pd.set_option('display.max_columns', 40)\n",
    "import numpy as np\n",
    "import itertools\n",
    "import pickle\n",
    "import json\n",
    "import yaml\n",
    "with open(r'../inp/character_inputs.yaml') as file:\n",
    "    target_stats = yaml.load(file, Loader=yaml.FullLoader)\n",
    "with open('../inp/master_data.json') as json_file:\n",
    "    data = json.load(json_file)\n",
    "import set_combo as sc\n",
    "from ipywidgets import interact, widgets, interactive, VBox, HBox\n",
    "from IPython.display import display"
   ]
  },
  {
   "cell_type": "code",
   "execution_count": null,
   "metadata": {},
   "outputs": [],
   "source": [
    "def set_widget4(Force_4Set, Speed, Attack, Counter, Lifesteal, Destruction, Rage, Revenge, Injury ):\n",
    "    return\n",
    "def set_widget2(Hit, Critical, Defense, Health, Resist, Immunity, Unity, Penetration ):\n",
    "    return\n",
    "def weight_widget(spd,atk,crit,cdmg,hp,defense,eff,res,ehp,dmg):\n",
    "    return"
   ]
  },
  {
   "cell_type": "code",
   "execution_count": null,
   "metadata": {},
   "outputs": [],
   "source": [
    "def run_widgets(hero_target,Force_4Set, char_list, st_setting):\n",
    "    widgets.IntSlider(min=-1,max=3,value=1)\n",
    "    w = interactive(weight_widget, \n",
    "                    spd = hero_target['SPD']['Weight'], atk = hero_target['ATK']['Weight'], \n",
    "                    crit = hero_target['CRIT']['Weight'], cdmg = hero_target['CDMG']['Weight'], \n",
    "                    hp = hero_target['HP']['Weight'], defense = hero_target['DEF']['Weight'], \n",
    "                    eff = hero_target['EFF']['Weight'], res = hero_target['RES']['Weight'],\n",
    "                    ehp = hero_target['EHP']['Weight'], dmg = hero_target['Dmg_Rating']['Weight'])\n",
    "    s4 = interactive(set_widget4,  Force_4Set = Force_4Set==1, Speed = 'Speed' in hero_target['include_sets'], Attack = 'Attack' in hero_target['include_sets'], Counter = 'Counter' in hero_target['include_sets'],  Lifesteal = 'Lifesteal' in hero_target['include_sets'], \n",
    "                     Destruction = 'Destruction' in hero_target['include_sets'], Rage = 'Rage' in hero_target['include_sets'], Revenge = 'Revenge' in hero_target['include_sets'], Injury = 'Injury' in hero_target['include_sets'])\n",
    "    s2 = interactive(set_widget2, Hit = 'Hit' in hero_target['include_sets'], Critical = 'Critical' in hero_target['include_sets'], Defense = 'Defense' in hero_target['include_sets'], Health = 'Health' in hero_target['include_sets'], \n",
    "                     Resist = 'Resist' in hero_target['include_sets'], Immunity = 'Immunity' in hero_target['include_sets'], Unity = 'Unity' in hero_target['include_sets'], Penetration = 'Penetration' in hero_target['include_sets'])\n",
    "    w1 = widgets.Dropdown(options=char_list,value=char,description=\"Character\")\n",
    "    w2 = widgets.IntSlider(value= st_setting[0], min=0, max=15, step=1, description='GEAR_ENHANCE:',\n",
    "        disabled=False, continuous_update=False, orientation='horizontal', readout=True, readout_format='d')\n",
    "    w3 = widgets.IntSlider(value= st_setting[1], min=0, max=30, step=1, description='GEAR_LIMIT:',\n",
    "        disabled=False, continuous_update=False, orientation='horizontal', readout=True, readout_format='d')\n",
    "    w4 = widgets.Checkbox(value= st_setting[2] ==1 , description=\"Keep gear currently equipped:\")\n",
    "    return w,s4,s2,w1,w2,w3,w4\n",
    "\n",
    "def update_settings():\n",
    "    include_sets = []\n",
    "    for i in fx.set_4.Set_Nm.values:\n",
    "        if s4.kwargs[i]: include_sets.extend([str(i)])\n",
    "    for i in fx.set_2.Set_Nm.values:   \n",
    "        if s2.kwargs[i]: include_sets.extend([str(i)])\n",
    "    hero_target['include_sets'] = include_sets\n",
    "    weight = w0.kwargs\n",
    "    for i in weight:\n",
    "        j = i.upper()\n",
    "        if j == 'DEFENSE': j = 'DEF'\n",
    "        elif j == 'DMG': j = 'Dmg_Rating'\n",
    "        hero_target[j]['Weight'] = weight[i]\n",
    "    return hero_target"
   ]
  },
  {
   "cell_type": "code",
   "execution_count": null,
   "metadata": {},
   "outputs": [],
   "source": [
    "def stat_range():\n",
    "    spd_range = widgets.IntRangeSlider(\n",
    "        value=[80, 350], min=80, max=350, step=1,\n",
    "        description='Speed:', disabled=False, continuous_update=False, orientation='horizontal',readout=True, readout_format='d')\n",
    "    atk_range = widgets.IntRangeSlider(\n",
    "        value=[0, 9999], min=0, max=9999, step=1,\n",
    "        description='Attack:', disabled=False, continuous_update=False, orientation='horizontal',readout=True, readout_format='d')\n",
    "    crit_range = widgets.IntRangeSlider(\n",
    "        value=[0, 101], min=0, max=101, step=1,\n",
    "        description='Crit Chance:', disabled=False, continuous_update=False, orientation='horizontal',readout=True, readout_format='d')\n",
    "    cdmg_range = widgets.IntRangeSlider(\n",
    "        value=[150, 500], min=150, max=500, step=1,\n",
    "        description='Crit Dmg:', disabled=False, continuous_update=False, orientation='horizontal',readout=True, readout_format='d')\n",
    "    hp_range = widgets.IntRangeSlider(\n",
    "        value=[0, 35000], min=3000, max=35000, step=1,\n",
    "        description='HP:', disabled=False, continuous_update=False, orientation='horizontal',readout=True, readout_format='d')\n",
    "    def_range = widgets.IntRangeSlider(\n",
    "        value=[0, 3500], min=300, max=3500, step=1,\n",
    "        description='Defense:', disabled=False, continuous_update=False, orientation='horizontal',readout=True, readout_format='d')\n",
    "    eff_range = widgets.IntRangeSlider(\n",
    "        value=[0, 350], min=0, max=350, step=1,\n",
    "        description='Effectiveness:', disabled=False, continuous_update=False, orientation='horizontal',readout=True, readout_format='d')\n",
    "    res_range = widgets.IntRangeSlider(\n",
    "        value=[0, 350], min=0, max=350, step=1,\n",
    "        description='Resistance:', disabled=False, continuous_update=False, orientation='horizontal',readout=True, readout_format='d')\n",
    "    s1 = [spd_range,atk_range,crit_range,cdmg_range,hp_range,def_range,eff_range,res_range]\n",
    "    return [spd_range,atk_range,crit_range,cdmg_range,hp_range,def_range,eff_range,res_range]"
   ]
  },
  {
   "cell_type": "code",
   "execution_count": null,
   "metadata": {},
   "outputs": [],
   "source": [
    "def print_gear_options(odf,s1,s2,w3):\n",
    "    active_sets = []\n",
    "    for i in range(1,len(s2)):\n",
    "        if s2[i].value: active_sets.append(s2[i].description)\n",
    "    op_cols = ['Complete','Set_1','Set_2','Set_3','WW','ATK','HP','DEF','SPD','CRIT','CDMG','EFF','RES', 'Dmg_Rating','EHP','CP']\n",
    "    print_df = odf[op_cols][ (odf.SPD >= s1[1].value[0])&(odf.SPD <= s1[1].value[1]) &\n",
    "                 (odf.ATK >= s1[2].value[0])&(odf.ATK <= s1[2].value[1]) &\n",
    "                 (odf.CRIT >= s1[3].value[0])&(odf.CRIT <= s1[3].value[1]) &\n",
    "                 (odf.CDMG >= s1[4].value[0])&(odf.CDMG <= s1[4].value[1]) &\n",
    "                 (odf.HP >= s1[5].value[0])&(odf.HP <= s1[5].value[1]) &\n",
    "                 (odf.DEF >= s1[6].value[0])&(odf.DEF <= s1[6].value[1]) &\n",
    "                 (odf.EFF >= s1[7].value[0])&(odf.EFF <= s1[7].value[1]) &\n",
    "                 (odf.RES >= s1[8].value[0])&(odf.RES <= s1[8].value[1]) &\n",
    "                 (odf.Set_1.isin(active_sets)) & (odf.Set_2.isin(active_sets)) &\n",
    "                 (odf.Set_3.isin(active_sets) | odf.Set_3.isna() ) &\n",
    "                 ~(odf.Complete.isin(['PREVIOUS','CURRENT']))\n",
    "                ].sort_values([w3.value],ascending=False).head(20).copy()\n",
    "    return print_df"
   ]
  },
  {
   "cell_type": "code",
   "execution_count": null,
   "metadata": {},
   "outputs": [],
   "source": [
    "def run_stat_selector(uniqueSets):\n",
    "    w1 = stat_range()\n",
    "    s1 = [widgets.Label(\"Stat Range\")]\n",
    "    for i in range(0,len(w1)):\n",
    "        s1.append(w1[i])\n",
    "    s2 = [widgets.Label(\"Sets:\")]\n",
    "    for x in range(len(uniqueSets)):\n",
    "        var = widgets.Checkbox( value=True, description= str(uniqueSets[x]), disabled=False)\n",
    "        s2.append(var)\n",
    "    sort_cols = ['WW','ATK','HP','DEF','SPD','CRIT','CDMG','EFF','RES','Dmg_Rating','EHP','CP']\n",
    "    w3 = widgets.RadioButtons(options= sort_cols, value='WW', description='Sort:', disabled=False)\n",
    "    return s1,s2,w3"
   ]
  },
  {
   "cell_type": "code",
   "execution_count": null,
   "metadata": {},
   "outputs": [],
   "source": [
    "def save_hero(df, gear_selected):\n",
    "    reco_list = gear_selected['gear_list']\n",
    "    df['reco'][(df.reco == char)] = ''\n",
    "    df['reco'] = np.where( df.id.isin(reco_list) , char, df['reco'])\n",
    "    df['hero'] = np.where((df.hero == char)&(df.hero != df.reco),'',df.hero)\n",
    "    df = df.sort_values(by = ['hero','reco','Type','efficiency','enhance'])\n",
    "    df.to_pickle('../outp/upd_items.pkl')\n",
    "    return df\n",
    "def save_final_data(df, reco_df):\n",
    "    df[~(df.reco=='')][['start_loc','hero','efficiency','rating','reco','Type','slot','set','level','rarity','enhance','mainStat','subStat1','subStat2','subStat3','subStat4']].to_csv('../reco/gear_reco.csv')\n",
    "\n",
    "    df['hero'] = np.where( df.reco!='', df['reco'], df['hero'])\n",
    "    df.to_pickle('../outp/equip_potential.pkl')\n",
    "\n",
    "    reco_df.to_csv('../reco/hero_stats.csv')\n",
    "    df = df.sort_values(by = ['hero','Type','efficiency','enhance'])\n",
    "    export2 = df[['efficiency','hero','enhance','slot','level','set','rarity','mainStat','subStat1','subStat2','subStat3','subStat4','id','p_id','locked']].to_dict('records')\n",
    "    with open('../outp/upd_items.json', 'w') as fp: json.dump(export2, fp)\n",
    "    return"
   ]
  },
  {
   "cell_type": "markdown",
   "metadata": {},
   "source": [
    "#### These are required user input settings that can be edited here in the notebook.\n",
    "Description of Settings:"
   ]
  },
  {
   "cell_type": "markdown",
   "metadata": {},
   "source": [
    "| Syntax | Description |\n",
    "| :----------- | :----------- |\n",
    "| <b>Manual_Selection:</b> |  Primarily used for run in terminal, if Selection = 1, the user is prompted with a refined gear list to choose from for each hero | \n",
    "| <b>Gear_Limit:</b> |  To improve run time, the top 'n' gears for EACH slot is used in optimization | \n",
    "| <b>Auto_Adj_Gear_Limit:</b> |  Adjusts the number of gear pieces selected based on combinations to optimize run time vs available selections |\n",
    "| <b>Use_Broken_Sets:</b> |  Only complete sets are used in gear optimization {default: 0} |\n",
    "| <b>No_Equipped_Gear:</b> |  Set to 1 {default}: does not use any equipped gear.  To include gear equipped on other heroes set to 0. |\n",
    "| <b>Keep_Current_Gear:</b> |  Keeps any currently equipped gear on the hero |\n",
    "| <b>Gear_Enhance:</b> |  Enhance gear to minimum level for stat selection/optimization |\n",
    "| <b>Flat_Sub:</b> |  Weight flat stat values in substats {range 0.0-1.0, default:0.8} |\n",
    "| <b>Flat_Main:</b> |  Weight value attributed to {Necklace, Ring, Boots} with flat main stats {range 0.0-1.0, default:0.5} |\n",
    "| <b>Min_Hero_Lvl:</b> |  Default Hero level of either 50 or 60 for stat calculation when the hero is not included in input file |"
   ]
  },
  {
   "cell_type": "code",
   "execution_count": null,
   "metadata": {},
   "outputs": [],
   "source": [
    "st.MANUAL_SELECTION = 1   ##recommend keeping 1 while using this notebook\n",
    "st.GEAR_LIMIT = 15 \n",
    "st.AUTO_ADJ_GEAR_LIMIT = 1\n",
    "## GEAR SELECTION\n",
    "st.USE_BROKEN_SETS = 1  \n",
    "st.NO_EQUIPPED_GEAR = 1  \n",
    "st.KEEP_CURR_GEAR = 1\n",
    "## STAT SELECTION\n",
    "st.GEAR_ENHANCE = 12\n",
    "st.FLAT_SUB = 0.8\n",
    "st.FLAT_MAIN = 0.5\n",
    "## HERO CRITERIA\n",
    "st.MIN_LEVEL = 50 "
   ]
  },
  {
   "cell_type": "code",
   "execution_count": null,
   "metadata": {},
   "outputs": [],
   "source": [
    "fx.verify_setup()"
   ]
  },
  {
   "cell_type": "markdown",
   "metadata": {},
   "source": [
    "## Section 1"
   ]
  },
  {
   "cell_type": "code",
   "execution_count": null,
   "metadata": {},
   "outputs": [],
   "source": [
    "## Here are the latest settings from character_inputs.yaml:\n",
    "hero_order = target_stats['Hero_Order']\n",
    "lock_gear = target_stats['Lock_Gear']\n",
    "print(\"Heroes for optimization:\", hero_order)\n",
    "if st.NO_EQUIPPED_GEAR == 1:\n",
    "    print(\"No equipped gear will be included in optimization.\")\n",
    "else:\n",
    "    print(\"Gear on the following heroes is locked and cannot be stolen from another hero.\", lock_gear)\n",
    "print(\"Gear will be unlocked if new gear is equipped on that hero\")\n",
    "j=0"
   ]
  },
  {
   "cell_type": "markdown",
   "metadata": {},
   "source": [
    "If you want to adjust the heroes above, uncomment the below cell and manually update heroes for optimization and locked gear"
   ]
  },
  {
   "cell_type": "code",
   "execution_count": null,
   "metadata": {},
   "outputs": [],
   "source": [
    "# hero_order = ['Faithless Lidica','Dizzy','Falconer Kluri','Cermia']\n",
    "# lock_gear = ['Lilias','Seaside Bellona']"
   ]
  },
  {
   "cell_type": "code",
   "execution_count": null,
   "metadata": {},
   "outputs": [],
   "source": [
    "df_hero, char_list = fx.hero_json_to_df(hero_order, data)\n",
    "sc.startup_message(lock_gear)"
   ]
  },
  {
   "cell_type": "markdown",
   "metadata": {},
   "source": [
    "## Section 2"
   ]
  },
  {
   "cell_type": "markdown",
   "metadata": {},
   "source": [
    "### SELECT HERO\n",
    "The following section can be looped through for one hero at a time.  You can select the hero and customize some settings to deliver optimal gear selection.  Once recommended gear has been assigned to the hero, that gear will become locked and previously equipped gear will be released.  Data is saved at the end of each hero optimization and can be recovered in case of error when doing multiple heroes at once."
   ]
  },
  {
   "cell_type": "markdown",
   "metadata": {},
   "source": [
    "To recover data, uncomment and run the cell below:"
   ]
  },
  {
   "cell_type": "code",
   "execution_count": null,
   "metadata": {},
   "outputs": [],
   "source": [
    "# sc.df_items = pd.read_pickle('../outp/upd_items.pkl')"
   ]
  },
  {
   "cell_type": "markdown",
   "metadata": {},
   "source": [
    "Specify the hero and review settings"
   ]
  },
  {
   "cell_type": "code",
   "execution_count": null,
   "metadata": {},
   "outputs": [],
   "source": [
    "Force_4Set, char, hero_target = sc.start_hero(hero_order[j], target_stats)\n",
    "w0,s4,s2,w1,w2,w3,w4 = run_widgets(hero_target,Force_4Set, char_list, [st.GEAR_ENHANCE,st.GEAR_LIMIT,st.KEEP_CURR_GEAR])"
   ]
  },
  {
   "cell_type": "markdown",
   "metadata": {},
   "source": [
    "Optional settings to change:"
   ]
  },
  {
   "cell_type": "code",
   "execution_count": null,
   "metadata": {},
   "outputs": [],
   "source": [
    "VBox([w1,w4,w2])"
   ]
  },
  {
   "cell_type": "markdown",
   "metadata": {},
   "source": [
    "Save if settings were changed:"
   ]
  },
  {
   "cell_type": "code",
   "execution_count": null,
   "metadata": {},
   "outputs": [],
   "source": [
    "Force_4Set, char, hero_target = sc.start_hero(w1.value, target_stats)\n",
    "st.GEAR_ENHANCE = w2.value\n",
    "st.KEEP_CURR_GEAR = 1 if w4.value == True else 0"
   ]
  },
  {
   "cell_type": "markdown",
   "metadata": {},
   "source": [
    "Select weighting of hero stats"
   ]
  },
  {
   "cell_type": "code",
   "execution_count": null,
   "metadata": {},
   "outputs": [],
   "source": [
    "HBox([VBox( [widgets.Label(\"Stat Weights\") , w0] ), VBox( [widgets.Label(\"4 Piece Sets\") , s4] ), VBox( [widgets.Label(\"2 Piece Sets\") , s2] )])"
   ]
  },
  {
   "cell_type": "code",
   "execution_count": null,
   "metadata": {},
   "outputs": [],
   "source": [
    "hero_target = update_settings()"
   ]
  },
  {
   "cell_type": "markdown",
   "metadata": {},
   "source": [
    "### Run Gear Combinations"
   ]
  },
  {
   "cell_type": "code",
   "execution_count": null,
   "metadata": {},
   "outputs": [],
   "source": [
    "gear_comb_dict = fx.set_combo(sc.df_items[sc.df_items.set.isin(hero_target['include_sets'])], char, sc.l4, sc.l2)  ## Output gear_comb_dict[ [set_nm] , [type] , [ID] ]\n",
    "sc_output = sc.set_combination_iterate(gear_comb_dict, fx.set_4[fx.set_4.Set_Nm.isin(hero_target['include_sets'])].Set_Nm.values , fx.set_2[fx.set_2.Set_Nm.isin(hero_target['include_sets'])].Set_Nm.values, Force_4Set)\n",
    "print('Progress: Step 1/4 Complete.  Number of combinations found', len(sc_output))\n",
    "print('For processing effiency, I would aim to keep combinations less than 1 million')"
   ]
  },
  {
   "cell_type": "code",
   "execution_count": null,
   "metadata": {
    "scrolled": true
   },
   "outputs": [],
   "source": [
    "sc_df = pd.DataFrame(sc_output, columns =['Set_1', 'Set_2', 'Set_3','Complete','Gear'])\n",
    "sc_df['gear_list'] = sc_df.apply(lambda row: fx.gear_split(row) , axis=1)\n",
    "sc_df[['0','1','2','3','4','5']] = pd.DataFrame(sc_df.gear_list.values.tolist(), index= sc_df.index)\n",
    "sc_df = sc_df.drop_duplicates(['0','1','2','3','4','5'])"
   ]
  },
  {
   "cell_type": "markdown",
   "metadata": {},
   "source": [
    "This step adds the currently equipped gear to the output for comparison.  Some of the hero's gear may have already been assigned to another hero during this optimization and cannot be selected for the desired output."
   ]
  },
  {
   "cell_type": "code",
   "execution_count": null,
   "metadata": {},
   "outputs": [],
   "source": [
    "### add current gear setting stats\n",
    "current_gear = pd.DataFrame(columns = ['Set_1', 'Set_2', 'Set_3', 'Complete', 'Gear', 'gear_list', '0', '1', '2', '3', '4', '5' ], index = ['0'])\n",
    "try:\n",
    "    nix=0\n",
    "    for gid in range(0,6):\n",
    "        current_gear[str(gid)] = sc.df_items[(sc.df_items.hero == char) & (sc.df_items.Type == gid)][['id']].values\n",
    "        val = sc.df_items[(sc.df_items.hero == char) & (sc.df_items.Type == gid)][['reco']].values\n",
    "        if (val > '') & (val!=char): nix = 1\n",
    "    current_gear = fx.get_set_bonus(current_gear, sc.df_items)\n",
    "    if nix==1: current_gear['Complete'] = 'PREVIOUS'\n",
    "    elif nix==0: current_gear['Complete'] = 'CURRENT'\n",
    "    sc_df = sc_df.append(current_gear)\n",
    "    sc_df = sc_df.reset_index()\n",
    "    hero_with_gear = 1\n",
    "except:\n",
    "    hero_with_gear = 0"
   ]
  },
  {
   "cell_type": "markdown",
   "metadata": {},
   "source": [
    "Calculates the stats for each combination of gear"
   ]
  },
  {
   "cell_type": "code",
   "execution_count": null,
   "metadata": {},
   "outputs": [],
   "source": [
    "### final stats for each combination\n",
    "output = fx.get_combo_stats(sc_df, df_hero, fx.mainst_sum(sc_df, sc.df_items), fx.subst_sum(sc_df, sc.df_items), \\\n",
    "                            fx.set_sum(sc_df), fx.bonus_eqp_sum(df_hero[df_hero.Name == char]), char, hero_target)\n",
    "print('Progress: Step 2/4 Complete.  Number of unique combinations for optimization', len(output[output.Complete!='PREVIOUS']) )"
   ]
  },
  {
   "cell_type": "code",
   "execution_count": null,
   "metadata": {},
   "outputs": [],
   "source": [
    "if hero_with_gear == 1:\n",
    "    choice_df = output.iloc[-1:,:].copy()\n",
    "    output = output.sort_values(by = ['WW'], ascending = False )  ## faster than inplace\n",
    "else:\n",
    "    output = output.sort_values(by = ['WW'], ascending = False )  ## faster than inplace\n",
    "    choice_df = output.iloc[:1,:].copy()\n",
    "\n",
    "## regular process\n",
    "output2 = output.copy()\n",
    "for stat in fx.set_df[fx.set_df.Bonus_Stat != 'NA'].Bonus_Stat.values:\n",
    "    output2.drop( output2[(output2[stat]).astype(int) < hero_target[stat]['Min']].index, inplace=True)\n",
    "    output2.drop( output2[(output2[stat]).astype(int) > hero_target[stat]['Max']].index, inplace=True)\n",
    "print(\"Progress: Step 3/4 Complete.  The number of combinations available with stats in specified range is: \",len(output2))\n",
    "if len(output2)==0:\n",
    "    output2 = output.copy()\n",
    "    print(\"Since no combinations meet criteria, best alternative combinations will be shown based on desired stat weighting.\")"
   ]
  },
  {
   "cell_type": "code",
   "execution_count": null,
   "metadata": {
    "scrolled": true
   },
   "outputs": [],
   "source": [
    "## record top options for key stats\n",
    "if st.MANUAL_SELECTION == 1:\n",
    "    choice_df = choice_df.append(output.iloc[:3,:])\n",
    "    choice_df = choice_df.append(output2.sort_values(by = ['WW'], ascending = False ).iloc[:3,:] )\n",
    "    try: \n",
    "        for STAT in np.unique(hero_target['Prio']):\n",
    "            choice_df = choice_df.append(output.sort_values(by = STAT, ascending = False ).iloc[:3,:] )\n",
    "            choice_df = choice_df.append(output2.sort_values(by = STAT, ascending = False ).iloc[:3,:] )\n",
    "    except: pass\n",
    "try:\n",
    "    for i in range(0,len(hero_target['Prio'])):\n",
    "        target = hero_target['Prio'][i]\n",
    "        cut_off = output2[target].quantile(0.9)\n",
    "        output2 = output2[ output2[target] >= cut_off ]\n",
    "except: pass\n",
    "print(\"combinations after prio sortings \", len(output2) )\n",
    "\n",
    "if st.MANUAL_SELECTION == 1:\n",
    "    choice_df = choice_df.append(output2.sort_values(by = ['WW'], ascending = False ).iloc[:3,:] )\n",
    "    choice_df = choice_df.append(output2[(output2.Set_1.isin(['Unity','Immunity','Penetration'])) | (output2.Set_2.isin(['Unity','Immunity'])) | \\\n",
    "            (output2.Set_3.isin(['Unity','Immunity']))].sort_values(by = ['WW'], ascending = False ).iloc[:3,:] )\n",
    "    choice_df = choice_df.append(output2[(output2.Set_1.isin(['Counter','Lifesteal','Rage','Injury','Revenge']))].sort_values(by = ['WW'], ascending = False ).iloc[:3,:] )\n",
    "    try: \n",
    "        for STAT in np.unique(hero_target['Prio']):\n",
    "            choice_df = choice_df.append(output2.sort_values(by = STAT, ascending = False ).iloc[:3,:] )\n",
    "    except: pass\n",
    "    choice_df = choice_df.drop(axis = 1, columns = ['gear_list','Gear']).drop_duplicates()\n",
    "idx_reco = output2.iloc[[0]].index.values[0]\n",
    "odf = output.copy()\n",
    "idx_text = 'Enter the index value for the gear combination with the hero stats you would like to apply:'\n",
    "idx = widgets.BoundedIntText(value=idx_reco, min=0, max=len(odf)-2, description=\"Index:\", disabled=False)\n",
    "uniqueSets = (odf['Set_1'].dropna().append(odf['Set_2'].dropna()).append(odf['Set_3'].dropna())).unique()\n",
    "s1,s2,w3 = run_stat_selector(uniqueSets)\n",
    "box1 = VBox(s1)\n",
    "box2 = VBox(s2)\n",
    "box3 = VBox([widgets.Label(\"Choose the stat/column to sort by:\"), w3] )"
   ]
  },
  {
   "cell_type": "markdown",
   "metadata": {},
   "source": [
    "#### REVIEW GEAR OPTIONS"
   ]
  },
  {
   "cell_type": "markdown",
   "metadata": {},
   "source": [
    "This table will display some of the top options based on the hero settings:"
   ]
  },
  {
   "cell_type": "code",
   "execution_count": null,
   "metadata": {
    "scrolled": true
   },
   "outputs": [],
   "source": [
    "choice_df[['Complete','Set_1','Set_2','Set_3','WW','ATK','HP','DEF','SPD','CRIT','CDMG','EFF','RES','Dmg_Rating','EHP']]"
   ]
  },
  {
   "cell_type": "markdown",
   "metadata": {},
   "source": [
    "You can also interact with the stats to display the top options:"
   ]
  },
  {
   "cell_type": "code",
   "execution_count": null,
   "metadata": {},
   "outputs": [],
   "source": [
    "HBox([box1,box2,box3])"
   ]
  },
  {
   "cell_type": "markdown",
   "metadata": {},
   "source": [
    "#### SELECT FINAL GEAR SET"
   ]
  },
  {
   "cell_type": "code",
   "execution_count": null,
   "metadata": {},
   "outputs": [],
   "source": [
    "print_df = print_gear_options(odf,s1,s2,w3)\n",
    "print_df"
   ]
  },
  {
   "cell_type": "code",
   "execution_count": null,
   "metadata": {},
   "outputs": [],
   "source": [
    "print(idx_text)\n",
    "print(\"Value 0 to\",len(odf)-2)\n",
    "display(idx)"
   ]
  },
  {
   "cell_type": "code",
   "execution_count": null,
   "metadata": {},
   "outputs": [],
   "source": [
    "print(\"Confirming index number:\",idx.value)"
   ]
  },
  {
   "cell_type": "markdown",
   "metadata": {},
   "source": [
    "Save the results for this hero:"
   ]
  },
  {
   "cell_type": "code",
   "execution_count": null,
   "metadata": {},
   "outputs": [],
   "source": [
    "sc.df_items = save_hero(sc.df_items, output.loc[idx.value])\n",
    "try: reco_df.append(output.loc[idx.value]['gear_list'])\n",
    "except: reco_df = pd.DataFrame(output.loc[idx.value]['gear_list'])\n",
    "j+=1"
   ]
  },
  {
   "cell_type": "markdown",
   "metadata": {},
   "source": [
    "### Go Back to Run Next Hero"
   ]
  },
  {
   "cell_type": "markdown",
   "metadata": {},
   "source": [
    "Save the final results:"
   ]
  },
  {
   "cell_type": "code",
   "execution_count": null,
   "metadata": {},
   "outputs": [],
   "source": [
    "save_final_data(sc.df_items, reco_df)"
   ]
  },
  {
   "cell_type": "markdown",
   "metadata": {},
   "source": [
    "### End of optimization notebook"
   ]
  },
  {
   "cell_type": "code",
   "execution_count": null,
   "metadata": {},
   "outputs": [],
   "source": [
    "#gear_selected = output2.iloc[0,:]\n",
    "row_idx = idx.value\n",
    "gear_selected = output.loc[row_idx]\n",
    "reco_list = gear_selected['gear_list']\n",
    "try: reco_df.append(gear_selected)\n",
    "except: reco_df = pd.DataFrame(gear_selected)\n",
    "sc.df_items['reco'][(sc.df_items.reco == char)] = ''\n",
    "\n",
    "sc.df_items['reco'] = np.where( sc.df_items.id.isin(reco_list) , char, sc.df_items['reco'])\n",
    "sc.df_items['hero'] = np.where((sc.df_items.hero == char)&(sc.df_items.hero != sc.df_items.reco),'',sc.df_items.hero)\n",
    "\n",
    "sc.df_items = sc.df_items.sort_values(by = ['hero','reco','Type','efficiency','enhance'])\n",
    "sc.df_items.to_pickle('../outp/upd_items.pkl')"
   ]
  },
  {
   "cell_type": "code",
   "execution_count": null,
   "metadata": {},
   "outputs": [],
   "source": [
    "sc.df_items[~(sc.df_items.reco=='')][['start_loc','hero','efficiency','rating','reco','Type','slot','set','level','rarity','enhance','mainStat','subStat1','subStat2','subStat3','subStat4']].to_csv('../reco/gear_reco.csv')\n",
    "\n",
    "sc.df_items['hero'] = np.where( sc.df_items.reco!='', sc.df_items['reco'],sc.df_items['hero'])\n",
    "sc.df_items.to_pickle('../outp/equip_potential.pkl')\n",
    "\n",
    "reco_df.to_csv('../reco/hero_stats.csv')\n",
    "sc.df_items = sc.df_items.sort_values(by = ['hero','Type','efficiency','enhance'])\n",
    "export2 = sc.df_items[['efficiency','hero','enhance','slot','level','set','rarity','mainStat','subStat1','subStat2','subStat3','subStat4','id','p_id','locked']].to_dict('records')\n",
    "with open('../outp/upd_items.json', 'w') as fp: json.dump(export2, fp)"
   ]
  },
  {
   "cell_type": "markdown",
   "metadata": {},
   "source": [
    "recoup from error"
   ]
  },
  {
   "cell_type": "code",
   "execution_count": null,
   "metadata": {},
   "outputs": [],
   "source": [
    "import pandas as pd\n",
    "df_items = pd.read_pickle('../outp/upd_items.pkl')"
   ]
  },
  {
   "cell_type": "code",
   "execution_count": null,
   "metadata": {},
   "outputs": [],
   "source": [
    "df_items[df_items.id.isin(odf.loc[row_idx].gear_list)].sort_values(by=['Type'])"
   ]
  },
  {
   "cell_type": "code",
   "execution_count": null,
   "metadata": {},
   "outputs": [],
   "source": [
    "df_items[df_items.reco!=''][['start_loc','hero','efficiency','rating','reco','Type','slot','set','level','rarity','enhance','mainStat','subStat1','subStat2','subStat3','subStat4']].to_csv('../reco/gear_reco.csv')\n",
    "\n",
    "df_items['hero'] = np.where( df_items.reco!='', df_items['reco'],df_items['hero'])\n",
    "df_items.to_pickle('../outp/equip_potential.pkl')\n",
    "\n",
    "df_items = df_items.sort_values(by = ['hero','Type','efficiency','enhance'])\n",
    "export2 = df_items[['efficiency','hero','enhance','slot','level','set','rarity','mainStat','subStat1','subStat2','subStat3','subStat4','id','p_id','locked']].to_dict('records')\n",
    "with open('../outp/upd_items.json', 'w') as fp: json.dump(export2, fp)"
   ]
  },
  {
   "cell_type": "markdown",
   "metadata": {},
   "source": [
    "### Gear analysis"
   ]
  },
  {
   "cell_type": "code",
   "execution_count": null,
   "metadata": {},
   "outputs": [],
   "source": [
    "df_lvl85 = sc.df_items[(sc.df_items.level == 85)].copy()"
   ]
  },
  {
   "cell_type": "code",
   "execution_count": null,
   "metadata": {},
   "outputs": [],
   "source": [
    "## look at level 85 gear\n",
    "df_lvl85.groupby(['level','enhance'])[['efficiency','maxp']].agg(['count','max','mean','min']) "
   ]
  },
  {
   "cell_type": "code",
   "execution_count": null,
   "metadata": {
    "scrolled": true
   },
   "outputs": [],
   "source": [
    "# df_lvl85[(df_lvl85.slot == 'Boots')&(df_lvl85.main_tp == 'Spd')].sort_values(by=['efficiency'], ascending = False)\n",
    "df_lvl85[(df_lvl85.enhance < 15)&(df_lvl85.SPD > 0)].sort_values(by=['maxp'], ascending = False)"
   ]
  },
  {
   "cell_type": "markdown",
   "metadata": {},
   "source": [
    "#### Gear var"
   ]
  },
  {
   "cell_type": "code",
   "execution_count": null,
   "metadata": {},
   "outputs": [],
   "source": [
    "# gear_chk = sc.df_items[(sc.df_items.main_tp == 'Spd')&(sc.df_items.enhance<15)].copy()\n",
    "gear_chk = sc.df_items[(sc.df_items.level >= 75)&(sc.df_items.Type.isin([3,4]))].copy()"
   ]
  },
  {
   "cell_type": "code",
   "execution_count": null,
   "metadata": {},
   "outputs": [],
   "source": [
    "gear_chk.groupby(['slot','main_tp','set'])[['efficiency','maxp']].agg(['count','max','mean','min']) "
   ]
  },
  {
   "cell_type": "markdown",
   "metadata": {},
   "source": [
    "#### Gear list"
   ]
  },
  {
   "cell_type": "code",
   "execution_count": null,
   "metadata": {},
   "outputs": [],
   "source": [
    "# gear_chk = sc.df_items[(sc.df_items.main_tp == 'Spd')&(sc.df_items.enhance<15)].copy()\n",
    "gear_chk = sc.df_items[(sc.df_items.level >= 75)&(sc.df_items.enhance<15)].copy()"
   ]
  },
  {
   "cell_type": "code",
   "execution_count": null,
   "metadata": {
    "scrolled": true
   },
   "outputs": [],
   "source": [
    "gear_chk.sort_values(['SPD'],ascending=False)"
   ]
  },
  {
   "cell_type": "markdown",
   "metadata": {},
   "source": [
    "### Gear removal"
   ]
  },
  {
   "cell_type": "markdown",
   "metadata": {},
   "source": [
    "##### choose gear to delete"
   ]
  },
  {
   "cell_type": "code",
   "execution_count": null,
   "metadata": {},
   "outputs": [],
   "source": [
    "df_items = pd.read_pickle('../outp/equip_potential.pkl')"
   ]
  },
  {
   "cell_type": "code",
   "execution_count": null,
   "metadata": {},
   "outputs": [],
   "source": [
    "x1 = df_items['efficiency'].quantile(q=0.4)\n",
    "x2 = df_items['max_eff'].quantile(q=0.3)\n",
    "x3 = df_items['rating'].quantile(q=0.4)\n",
    "x4 = df_items['current_eff'].quantile(q=0.3)"
   ]
  },
  {
   "cell_type": "code",
   "execution_count": null,
   "metadata": {},
   "outputs": [],
   "source": [
    "low_items = df_items[(df_items.efficiency <= x1) & (df_items.max_eff <= x2) & (df_items.rating <= x3) & (df_items.current_eff <= x4) & (df_items.SPD <= 8)].copy()\n"
   ]
  },
  {
   "cell_type": "code",
   "execution_count": null,
   "metadata": {},
   "outputs": [],
   "source": [
    "print(\"number of items\" , len(df_items))\n",
    "print(\"number of unequipped items\" , len(df_items[df_items.hero=='']))\n",
    "print(\"number of items to delete\" , len(low_items))\n",
    "print(\"number of unequipped items to delete\" , len(low_items[low_items.hero=='']))"
   ]
  },
  {
   "cell_type": "code",
   "execution_count": null,
   "metadata": {},
   "outputs": [],
   "source": [
    "low_items"
   ]
  },
  {
   "cell_type": "code",
   "execution_count": null,
   "metadata": {},
   "outputs": [],
   "source": [
    "low_items[low_items.hero==''][['id','p_id','efficiency','max_eff','set','slot','level','enhance']].to_csv('../outp/remove_list.csv')"
   ]
  },
  {
   "cell_type": "markdown",
   "metadata": {},
   "source": [
    "##### remove gear from items"
   ]
  },
  {
   "cell_type": "code",
   "execution_count": null,
   "metadata": {},
   "outputs": [],
   "source": [
    "remove = pd.read_csv('../outp/remove_list.csv')"
   ]
  },
  {
   "cell_type": "code",
   "execution_count": null,
   "metadata": {},
   "outputs": [],
   "source": [
    "check1 = len(remove.id.values)\n",
    "check2 = df_items[df_items.id.isin(remove.id.values)]['id'].count()"
   ]
  },
  {
   "cell_type": "code",
   "execution_count": null,
   "metadata": {},
   "outputs": [],
   "source": [
    "if check1 == check2:\n",
    "    print('pass', check1, check2)\n",
    "    df_items = df_items.sort_values(by = ['hero','Type','efficiency','enhance'])\n",
    "    export1 = df_items[~df_items.id.isin(remove.id.values)][['efficiency','hero','enhance','slot','level','set','rarity','mainStat','subStat1','subStat2','subStat3','subStat4','id','p_id','locked']].copy()\n",
    "    export2 = export1.to_dict('records')\n",
    "    with open('../outp/upd_items.json', 'w') as fp: json.dump(export2, fp)"
   ]
  },
  {
   "cell_type": "code",
   "execution_count": null,
   "metadata": {},
   "outputs": [],
   "source": [
    "print( sc.df_items['id'].count() , export1['id'].count(), check1 )"
   ]
  },
  {
   "cell_type": "code",
   "execution_count": null,
   "metadata": {},
   "outputs": [],
   "source": []
  }
 ],
 "metadata": {
  "kernelspec": {
   "display_name": "Python 3",
   "language": "python",
   "name": "python3"
  },
  "language_info": {
   "codemirror_mode": {
    "name": "ipython",
    "version": 3
   },
   "file_extension": ".py",
   "mimetype": "text/x-python",
   "name": "python",
   "nbconvert_exporter": "python",
   "pygments_lexer": "ipython3",
   "version": "3.8.5"
  }
 },
 "nbformat": 4,
 "nbformat_minor": 2
}
